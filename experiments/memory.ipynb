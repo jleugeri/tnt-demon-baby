{
 "cells": [
  {
   "cell_type": "code",
   "execution_count": 20,
   "metadata": {},
   "outputs": [],
   "source": [
    "import os\n",
    "import sys\n",
    "# add the src directory to the path\n",
    "sys.path.append(os.path.join(os.path.dirname(os.getcwd()), \"src\"))\n",
    "\n",
    "from ttt_pyttt import PyTTT\n",
    "from utils import plot_traces\n",
    "import numpy as np\n",
    "from matplotlib import pyplot as plt"
   ]
  },
  {
   "cell_type": "markdown",
   "metadata": {},
   "source": [
    "# Example 3: Dynamic long-term memory\n",
    "\n",
    "```mermaid\n",
    "    graph TB\n",
    "        set((set))\n",
    "        reset((reset))\n",
    "        delay1{{delay 1}}\n",
    "        delay2(delay 2)\n",
    "        delay3{{delay 3}}\n",
    "        delay4(delay 4)\n",
    "        trigger1(trigger1)\n",
    "        trigger2(trigger2)\n",
    "        memory(memory)\n",
    "\n",
    "        set --> trigger2\n",
    "        reset --o delay1\n",
    "        reset --o delay2\n",
    "        reset --o delay3\n",
    "        reset --o delay4\n",
    "        reset ---o memory\n",
    "        \n",
    "        delay1 --o trigger1\n",
    "        delay2 --> trigger1\n",
    "\n",
    "        delay3 --o trigger2\n",
    "        delay4 --> trigger2\n",
    "\n",
    "        trigger1 --> delay3\n",
    "        trigger1 --> delay4\n",
    "\n",
    "        trigger2 --> delay1\n",
    "        trigger2 --> delay2\n",
    "\n",
    "        trigger1 --> memory\n",
    "        trigger2 --> memory\n",
    "```\n",
    "a"
   ]
  },
  {
   "cell_type": "code",
   "execution_count": 21,
   "metadata": {},
   "outputs": [],
   "source": [
    "# construct model\n",
    "# 7 nodes: delay 1, delay 2, trigger 1, delay 3, delay 4, trigger 2, memory\n",
    "good_thresh = np.array([1, 1, 1, 1, 1, 1, 1])\n",
    "bad_thresh = np.array([0, 0, 0, 0, 0, 0, 0])\n",
    "W_good = np.array([\n",
    "    [0, 0, 0, 0, 0, 1, 0], # delay 1\n",
    "    [0, 0, 0, 0, 0, 1, 0], # delay 2\n",
    "    [0, 1, 0, 0, 0, 0, 0], # trigger 1\n",
    "    [0, 0, 1, 0, 0, 0, 0], # delay 3\n",
    "    [0, 0, 1, 0, 0, 0, 0], # delay 4\n",
    "    [0, 0, 0, 0, 1, 0, 0], # trigger 2\n",
    "    [0, 0, 1, 0, 0, 1, 0]  # memory\n",
    "])\n",
    "W_bad = np.array([\n",
    "    [0, 0, 0, 0, 0, 0, 0], # delay 1\n",
    "    [0, 0, 0, 0, 0, 0, 0], # delay 2\n",
    "    [1, 0, 0, 0, 0, 0, 0], # trigger 1\n",
    "    [0, 0, 0, 0, 0, 0, 0], # delay 3\n",
    "    [0, 0, 0, 0, 0, 0, 0], # delay 4\n",
    "    [0, 0, 0, 1, 0, 0, 0], # trigger 2\n",
    "    [0, 0, 0, 0, 0, 0, 0]  # memory\n",
    "])\n",
    "\n",
    "# retrigger after 100ms, the trigger-pulse itself is 10ms\n",
    "interval = 100\n",
    "pulse = 10\n",
    "pulse_duration = np.array([interval-1, interval, pulse, interval-1, interval, pulse, interval+1])\n",
    "\n",
    "net = PyTTT(goodThreshold=good_thresh, badThreshold=bad_thresh, W_good=W_good, W_bad=W_bad, duration=pulse_duration)\n"
   ]
  },
  {
   "cell_type": "code",
   "execution_count": 22,
   "metadata": {},
   "outputs": [],
   "source": [
    "# generate input\n",
    "num_steps = 1000\n",
    "dt = 1e-3\n",
    "steps = np.arange(num_steps)*dt\n",
    "\n",
    "good_tokens_in = np.zeros((num_steps, len(good_thresh)), dtype=np.int32)\n",
    "bad_tokens_in = np.zeros((num_steps, len(good_thresh)), dtype=np.int32)\n",
    "\n",
    "# set the memory at 100ms and clear at 900ms\n",
    "good_tokens_in[100, 5] = 1\n",
    "bad_tokens_in[900, :] = 1\n",
    "\n",
    "# give each input signal a duration of 1ms\n",
    "PyTTT.set_expiration(good_tokens_in, 1, circular=False)\n",
    "\n",
    "# run and keep track of the generated EPSPs, spikes and plateaus\n",
    "did_start = np.zeros_like(good_tokens_in, dtype=np.int32)\n",
    "did_stop = np.zeros_like(good_tokens_in, dtype=np.int32)\n",
    "for step,(start_token, stop_token) in enumerate(net.run(good_tokens_in, bad_tokens_in)):\n",
    "    did_start[step,:] = start_token\n",
    "    did_stop[step,:] = stop_token\n"
   ]
  },
  {
   "cell_type": "code",
   "execution_count": 29,
   "metadata": {},
   "outputs": [
    {
     "data": {
      "image/png": "[encoded data removed]",
      "text/plain": [
       "<Figure size 500x300 with 1 Axes>"
      ]
     },
     "metadata": {},
     "output_type": "display_data"
    }
   ],
   "source": [
    "fig, ax = plt.subplots(1, 1, sharex=True, figsize=(5, 3))\n",
    "colors = [\"gray\", \"gray\", \"C0\", \"gray\", \"gray\", \"C1\",  \"C2\"]\n",
    "labels = [r\"$D_{1,1}$\", r\"$D_{1,2}$\", \"refresh 1\", r\"$D_{2,1}$\", r\"$D_{2,2}$\", \"refresh 2\", \"memory\"]\n",
    "\n",
    "ax.vlines(steps[[100, 900]], 0.5, 7.5, color=\"gray\", linestyle=\"--\", zorder=0)\n",
    "\n",
    "ax.set_title(\"Activity traces of the tokens\")\n",
    "ax.set_xlabel(\"Time [s]\")\n",
    "plot_traces(steps, did_start, did_stop, ax=ax, colors=colors, labels=labels, alpha=0.75, zorder=10)\n",
    "\n",
    "fig.savefig(\"memory.png\", dpi=300, bbox_inches=\"tight\")\n",
    "fig.savefig(\"memory.svg\", dpi=300, bbox_inches=\"tight\")\n",
    "fig.savefig(\"memory.pdf\", dpi=300, bbox_inches=\"tight\")"
   ]
  },
  {
   "cell_type": "code",
   "execution_count": null,
   "metadata": {},
   "outputs": [],
   "source": []
  }
 ],
 "metadata": {
  "kernelspec": {
   "display_name": "venv_ticktocktokens",
   "language": "python",
   "name": "python3"
  },
  "language_info": {
   "codemirror_mode": {
    "name": "ipython",
    "version": 3
   },
   "file_extension": ".py",
   "mimetype": "text/x-python",
   "name": "python",
   "nbconvert_exporter": "python",
   "pygments_lexer": "ipython3",
   "version": "3.11.6"
  }
 },
 "nbformat": 4,
 "nbformat_minor": 2
}
